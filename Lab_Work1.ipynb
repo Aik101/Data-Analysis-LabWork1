{
 "cells": [
  {
   "cell_type": "markdown",
   "id": "694c517e",
   "metadata": {
    "scrolled": true
   },
   "source": [
    "## Task 1"
   ]
  },
  {
   "cell_type": "code",
   "execution_count": 2,
   "id": "3e5d134d",
   "metadata": {},
   "outputs": [],
   "source": [
    "import random as rd\n",
    "import itertools"
   ]
  },
  {
   "cell_type": "code",
   "execution_count": 408,
   "id": "cb414b91",
   "metadata": {
    "scrolled": true
   },
   "outputs": [
    {
     "name": "stdout",
     "output_type": "stream",
     "text": [
      "[0, 1, 0, 0, 1, 1, 1, 1, 0, 1, 1, 0, 1, 1, 0, 0, 1, 1, 1, 1, 1, 0, 1, 0, 0, 1, 1, 1, 0, 0, 0, 1, 1, 1, 0, 1, 0, 1, 0, 1, 1, 1, 1, 1, 0, 0, 1, 0, 1, 0, 0, 0, 0, 0, 0, 0, 0, 1, 0, 1, 1, 0, 0, 0, 1, 1, 1, 1, 0, 1, 0, 1, 0, 1, 1, 1, 1, 1, 1, 0, 1, 0, 1, 0, 0, 1, 0, 0, 1, 0, 1, 1, 0, 1, 0, 0, 1, 1, 1, 0]\n"
     ]
    }
   ],
   "source": [
    "N = 100\n",
    "numArray = []\n",
    "counts = []\n",
    "\n",
    "for i in range(N):\n",
    "    numArray.append(random.randint(0, 1))\n",
    "\n",
    "\n",
    "print(numArray)"
   ]
  },
  {
   "cell_type": "code",
   "execution_count": 424,
   "id": "9391f470",
   "metadata": {},
   "outputs": [
    {
     "name": "stdout",
     "output_type": "stream",
     "text": [
      "[0, 1, 0, 0, 1, 1, 1, 1, 0, 1, 1, 0, 1, 1, 0, 0, 1, 1, 1, 1, 1, 0, 1, 0, 0, 1, 1, 1, 0, 0, 0, 1, 1, 1, 0, 1, 0, 1, 0, 1, 1, 1, 1, 1, 0, 0, 1, 0, 1, 0, 0, 0, 0, 0, 0, 0, 0, 1, 0, 1, 1, 0, 0, 0, 1, 1, 1, 1, 0, 1, 0, 1, 0, 1, 1, 1, 1, 1, 1, 0, 1, 0, 1, 0, 0, 1, 0, 0, 1, 0, 1, 1, 0, 1, 0, 0, 1, 1, 1, 0]\n",
      "0: 32.075471698113205%\n",
      "00: 13.20754716981132%\n",
      "000: 3.7735849056603774%\n",
      "00000000: 1.8867924528301887%\n",
      "11: 7.547169811320755%\n",
      "111111: 1.8867924528301887%\n",
      "11111: 3.7735849056603774%\n",
      "1111: 3.7735849056603774%\n",
      "111: 5.660377358490567%\n",
      "1: 26.41509433962264%\n"
     ]
    }
   ],
   "source": [
    "def show_subsequence(count):\n",
    "    if count > 0:\n",
    "        return \"\".join(itertools.repeat(\"0\", count))\n",
    "    else:\n",
    "        return \"\".join(itertools.repeat(\"1\", count * -1))\n",
    "\n",
    "\n",
    "tempValue = numArray[0]\n",
    "tempCount = 1\n",
    "for item in numArray[1:]:\n",
    "    if tempValue == item:\n",
    "        tempCount += 1\n",
    "    else:\n",
    "        if tempValue == 0:\n",
    "            counts.append(tempCount)\n",
    "            tempValue = 1\n",
    "        else:\n",
    "            counts.append(tempCount * -1)\n",
    "            tempValue = 0\n",
    "        tempCount = 1\n",
    "print(numArray)\n",
    "        \n",
    "if tempValue == 0:\n",
    "    counts.append(tempCount)\n",
    "else:\n",
    "    counts.append(tempCount * -1)\n",
    "\n",
    "for k in set(counts):\n",
    "    print(f\"{show_subsequence(k)}: {(counts.count(k) / len(counts)) * 100}%\")"
   ]
  },
  {
   "cell_type": "code",
   "execution_count": null,
   "id": "573b68c1",
   "metadata": {},
   "outputs": [],
   "source": []
  },
  {
   "cell_type": "markdown",
   "id": "59bea54e",
   "metadata": {},
   "source": [
    "## Task 2"
   ]
  },
  {
   "cell_type": "code",
   "execution_count": 342,
   "id": "b12478df",
   "metadata": {},
   "outputs": [],
   "source": [
    "import matplotlib.pyplot as plt"
   ]
  },
  {
   "cell_type": "code",
   "execution_count": 343,
   "id": "4668dc39",
   "metadata": {
    "scrolled": true
   },
   "outputs": [
    {
     "data": {
      "text/plain": [
       "[42,\n",
       " 55,\n",
       " 36,\n",
       " 35,\n",
       " 68,\n",
       " 14,\n",
       " 37,\n",
       " 44,\n",
       " 81,\n",
       " 27,\n",
       " 15,\n",
       " 59,\n",
       " 38,\n",
       " 88,\n",
       " 20,\n",
       " 4,\n",
       " 46,\n",
       " 39,\n",
       " 36,\n",
       " 30,\n",
       " 84,\n",
       " 9,\n",
       " 15,\n",
       " 54,\n",
       " 10,\n",
       " 22,\n",
       " 96,\n",
       " 85,\n",
       " 20,\n",
       " 89,\n",
       " 56,\n",
       " 9,\n",
       " 58,\n",
       " 57,\n",
       " 68,\n",
       " 63,\n",
       " 24,\n",
       " 32,\n",
       " 67,\n",
       " 20,\n",
       " 35,\n",
       " 79,\n",
       " 78,\n",
       " 71,\n",
       " 25,\n",
       " 47,\n",
       " 97,\n",
       " 76,\n",
       " 31,\n",
       " 39,\n",
       " 83,\n",
       " 85,\n",
       " 59,\n",
       " 39,\n",
       " 81,\n",
       " 14,\n",
       " 32,\n",
       " 9,\n",
       " 51,\n",
       " 64,\n",
       " 34,\n",
       " 79,\n",
       " 84,\n",
       " 86,\n",
       " 33,\n",
       " 52,\n",
       " 79,\n",
       " 36,\n",
       " 54,\n",
       " 66,\n",
       " 95,\n",
       " 74,\n",
       " 62,\n",
       " 60,\n",
       " 17,\n",
       " 59,\n",
       " 20,\n",
       " 66,\n",
       " 44,\n",
       " 36,\n",
       " 82,\n",
       " 17,\n",
       " 36,\n",
       " 25,\n",
       " 64,\n",
       " 33,\n",
       " 72,\n",
       " 85,\n",
       " 35,\n",
       " 18,\n",
       " 52,\n",
       " 22,\n",
       " 16,\n",
       " 54,\n",
       " 80,\n",
       " 71,\n",
       " 45,\n",
       " 28,\n",
       " 6,\n",
       " 88]"
      ]
     },
     "execution_count": 343,
     "metadata": {},
     "output_type": "execute_result"
    }
   ],
   "source": [
    "N = 100\n",
    "random_list = rd.choices(range(1,100), k = N)\n",
    "random_list"
   ]
  },
  {
   "cell_type": "code",
   "execution_count": 344,
   "id": "f9aac7c9",
   "metadata": {
    "scrolled": true
   },
   "outputs": [
    {
     "data": {
      "text/plain": [
       "49.12"
      ]
     },
     "execution_count": 344,
     "metadata": {},
     "output_type": "execute_result"
    }
   ],
   "source": [
    "mean = sum(random_list)/len(random_list)\n",
    "mean"
   ]
  },
  {
   "cell_type": "code",
   "execution_count": 345,
   "id": "b1390937",
   "metadata": {},
   "outputs": [
    {
     "name": "stdout",
     "output_type": "stream",
     "text": [
      "mean of the random dataset is 49.12\n",
      "std of the random dataset is 25.39971653385132\n"
     ]
    }
   ],
   "source": [
    "import numpy as np\n",
    "random_list = np.array(random_list)\n",
    "mean = random_list.mean()\n",
    "std = random_list.std()\n",
    "print(f'mean of the random dataset is {mean}')\n",
    "print(f'std of the random dataset is {std}')\n"
   ]
  },
  {
   "cell_type": "code",
   "execution_count": 346,
   "id": "997c0885",
   "metadata": {},
   "outputs": [
    {
     "data": {
      "text/plain": [
       "[<matplotlib.lines.Line2D at 0x201d59b9c10>]"
      ]
     },
     "execution_count": 346,
     "metadata": {},
     "output_type": "execute_result"
    },
    {
     "data": {
      "image/png": "[encoded data removed]",
      "text/plain": [
       "<Figure size 432x288 with 1 Axes>"
      ]
     },
     "metadata": {
      "needs_background": "light"
     },
     "output_type": "display_data"
    }
   ],
   "source": [
    "import matplotlib.pyplot as plt \n",
    " \n",
    "#create basic scatterplot \n",
    "x = range(N)\n",
    "y = random_list\n",
    "plt.plot(x, y, 'o') \n",
    " \n",
    "#obtain m (slope) and b(intercept) of linear regression line \n",
    "m, b = np.polyfit(x, y, 1) \n",
    " \n",
    "#add linear regression line to scatterplot  \n",
    "plt.plot(x, m*x+b)"
   ]
  },
  {
   "cell_type": "code",
   "execution_count": null,
   "id": "7a4363f9",
   "metadata": {},
   "outputs": [],
   "source": []
  },
  {
   "cell_type": "markdown",
   "id": "e0191ea7",
   "metadata": {},
   "source": [
    "# Task 3"
   ]
  },
  {
   "cell_type": "code",
   "execution_count": 381,
   "id": "08306afd",
   "metadata": {
    "scrolled": true
   },
   "outputs": [],
   "source": [
    "import pandas as pd"
   ]
  },
  {
   "cell_type": "code",
   "execution_count": 364,
   "id": "f1345e8b",
   "metadata": {
    "scrolled": false
   },
   "outputs": [
    {
     "data": {
      "text/html": [
       "<div>\n",
       "<style scoped>\n",
       "    .dataframe tbody tr th:only-of-type {\n",
       "        vertical-align: middle;\n",
       "    }\n",
       "\n",
       "    .dataframe tbody tr th {\n",
       "        vertical-align: top;\n",
       "    }\n",
       "\n",
       "    .dataframe thead th {\n",
       "        text-align: right;\n",
       "    }\n",
       "</style>\n",
       "<table border=\"1\" class=\"dataframe\">\n",
       "  <thead>\n",
       "    <tr style=\"text-align: right;\">\n",
       "      <th></th>\n",
       "      <th>Цена</th>\n",
       "      <th>Откр.</th>\n",
       "      <th>Макс.</th>\n",
       "      <th>Мин.</th>\n",
       "      <th>Объём</th>\n",
       "      <th>Изм. %</th>\n",
       "    </tr>\n",
       "    <tr>\n",
       "      <th>Дата</th>\n",
       "      <th></th>\n",
       "      <th></th>\n",
       "      <th></th>\n",
       "      <th></th>\n",
       "      <th></th>\n",
       "      <th></th>\n",
       "    </tr>\n",
       "  </thead>\n",
       "  <tbody>\n",
       "    <tr>\n",
       "      <th>25.11.2022</th>\n",
       "      <td>351,29</td>\n",
       "      <td>348,87</td>\n",
       "      <td>351,39</td>\n",
       "      <td>348,07</td>\n",
       "      <td>944,40K</td>\n",
       "      <td>0,76%</td>\n",
       "    </tr>\n",
       "    <tr>\n",
       "      <th>23.11.2022</th>\n",
       "      <td>348,64</td>\n",
       "      <td>344,79</td>\n",
       "      <td>350,78</td>\n",
       "      <td>344,79</td>\n",
       "      <td>1,94M</td>\n",
       "      <td>1,07%</td>\n",
       "    </tr>\n",
       "    <tr>\n",
       "      <th>22.11.2022</th>\n",
       "      <td>344,96</td>\n",
       "      <td>340,06</td>\n",
       "      <td>345,25</td>\n",
       "      <td>337,56</td>\n",
       "      <td>2,44M</td>\n",
       "      <td>1,98%</td>\n",
       "    </tr>\n",
       "    <tr>\n",
       "      <th>21.11.2022</th>\n",
       "      <td>338,25</td>\n",
       "      <td>342,94</td>\n",
       "      <td>344,25</td>\n",
       "      <td>337,62</td>\n",
       "      <td>1,96M</td>\n",
       "      <td>-1,58%</td>\n",
       "    </tr>\n",
       "    <tr>\n",
       "      <th>18.11.2022</th>\n",
       "      <td>343,69</td>\n",
       "      <td>345,66</td>\n",
       "      <td>348,63</td>\n",
       "      <td>341,33</td>\n",
       "      <td>2,74M</td>\n",
       "      <td>0,71%</td>\n",
       "    </tr>\n",
       "    <tr>\n",
       "      <th>...</th>\n",
       "      <td>...</td>\n",
       "      <td>...</td>\n",
       "      <td>...</td>\n",
       "      <td>...</td>\n",
       "      <td>...</td>\n",
       "      <td>...</td>\n",
       "    </tr>\n",
       "    <tr>\n",
       "      <th>03.12.2021</th>\n",
       "      <td>322,11</td>\n",
       "      <td>320,24</td>\n",
       "      <td>322,68</td>\n",
       "      <td>314,00</td>\n",
       "      <td>4,73M</td>\n",
       "      <td>0,60%</td>\n",
       "    </tr>\n",
       "    <tr>\n",
       "      <th>02.12.2021</th>\n",
       "      <td>320,20</td>\n",
       "      <td>309,59</td>\n",
       "      <td>322,20</td>\n",
       "      <td>308,98</td>\n",
       "      <td>6,72M</td>\n",
       "      <td>4,54%</td>\n",
       "    </tr>\n",
       "    <tr>\n",
       "      <th>01.12.2021</th>\n",
       "      <td>306,28</td>\n",
       "      <td>320,78</td>\n",
       "      <td>322,02</td>\n",
       "      <td>306,00</td>\n",
       "      <td>8,01M</td>\n",
       "      <td>-2,74%</td>\n",
       "    </tr>\n",
       "    <tr>\n",
       "      <th>30.11.2021</th>\n",
       "      <td>314,92</td>\n",
       "      <td>318,00</td>\n",
       "      <td>320,76</td>\n",
       "      <td>310,11</td>\n",
       "      <td>10,24M</td>\n",
       "      <td>-2,50%</td>\n",
       "    </tr>\n",
       "    <tr>\n",
       "      <th>29.11.2021</th>\n",
       "      <td>323,01</td>\n",
       "      <td>330,01</td>\n",
       "      <td>331,82</td>\n",
       "      <td>318,25</td>\n",
       "      <td>6,36M</td>\n",
       "      <td>-0,36%</td>\n",
       "    </tr>\n",
       "  </tbody>\n",
       "</table>\n",
       "<p>251 rows × 6 columns</p>\n",
       "</div>"
      ],
      "text/plain": [
       "              Цена   Откр.   Макс.    Мин.    Объём  Изм. %\n",
       "Дата                                                       \n",
       "25.11.2022  351,29  348,87  351,39  348,07  944,40K   0,76%\n",
       "23.11.2022  348,64  344,79  350,78  344,79    1,94M   1,07%\n",
       "22.11.2022  344,96  340,06  345,25  337,56    2,44M   1,98%\n",
       "21.11.2022  338,25  342,94  344,25  337,62    1,96M  -1,58%\n",
       "18.11.2022  343,69  345,66  348,63  341,33    2,74M   0,71%\n",
       "...            ...     ...     ...     ...      ...     ...\n",
       "03.12.2021  322,11  320,24  322,68  314,00    4,73M   0,60%\n",
       "02.12.2021  320,20  309,59  322,20  308,98    6,72M   4,54%\n",
       "01.12.2021  306,28  320,78  322,02  306,00    8,01M  -2,74%\n",
       "30.11.2021  314,92  318,00  320,76  310,11   10,24M  -2,50%\n",
       "29.11.2021  323,01  330,01  331,82  318,25    6,36M  -0,36%\n",
       "\n",
       "[251 rows x 6 columns]"
      ]
     },
     "execution_count": 364,
     "metadata": {},
     "output_type": "execute_result"
    }
   ],
   "source": [
    "df_ma = pd.read_csv(r'C:\\Users\\ekuma\\Documents\\Visa and Mastercard 27.11.21to27.11.22\\MA.csv', index_col = 'Дата')\n",
    "df_ma"
   ]
  },
  {
   "cell_type": "code",
   "execution_count": 383,
   "id": "98829a5e",
   "metadata": {
    "scrolled": false
   },
   "outputs": [
    {
     "data": {
      "text/html": [
       "<div>\n",
       "<style scoped>\n",
       "    .dataframe tbody tr th:only-of-type {\n",
       "        vertical-align: middle;\n",
       "    }\n",
       "\n",
       "    .dataframe tbody tr th {\n",
       "        vertical-align: top;\n",
       "    }\n",
       "\n",
       "    .dataframe thead th {\n",
       "        text-align: right;\n",
       "    }\n",
       "</style>\n",
       "<table border=\"1\" class=\"dataframe\">\n",
       "  <thead>\n",
       "    <tr style=\"text-align: right;\">\n",
       "      <th></th>\n",
       "      <th>Цена</th>\n",
       "      <th>Откр.</th>\n",
       "      <th>Макс.</th>\n",
       "      <th>Мин.</th>\n",
       "      <th>Объём</th>\n",
       "      <th>Изм. %</th>\n",
       "    </tr>\n",
       "    <tr>\n",
       "      <th>Дата</th>\n",
       "      <th></th>\n",
       "      <th></th>\n",
       "      <th></th>\n",
       "      <th></th>\n",
       "      <th></th>\n",
       "      <th></th>\n",
       "    </tr>\n",
       "  </thead>\n",
       "  <tbody>\n",
       "    <tr>\n",
       "      <th>25.11.2022</th>\n",
       "      <td>213,79</td>\n",
       "      <td>211,38</td>\n",
       "      <td>213,97</td>\n",
       "      <td>211,38</td>\n",
       "      <td>1,99M</td>\n",
       "      <td>0,97%</td>\n",
       "    </tr>\n",
       "    <tr>\n",
       "      <th>23.11.2022</th>\n",
       "      <td>211,73</td>\n",
       "      <td>210,24</td>\n",
       "      <td>212,83</td>\n",
       "      <td>210,19</td>\n",
       "      <td>3,81M</td>\n",
       "      <td>0,67%</td>\n",
       "    </tr>\n",
       "    <tr>\n",
       "      <th>22.11.2022</th>\n",
       "      <td>210,33</td>\n",
       "      <td>207,54</td>\n",
       "      <td>210,46</td>\n",
       "      <td>205,38</td>\n",
       "      <td>5,27M</td>\n",
       "      <td>1,94%</td>\n",
       "    </tr>\n",
       "    <tr>\n",
       "      <th>21.11.2022</th>\n",
       "      <td>206,32</td>\n",
       "      <td>210,30</td>\n",
       "      <td>210,52</td>\n",
       "      <td>206,00</td>\n",
       "      <td>10,45M</td>\n",
       "      <td>-2,13%</td>\n",
       "    </tr>\n",
       "    <tr>\n",
       "      <th>18.11.2022</th>\n",
       "      <td>210,80</td>\n",
       "      <td>213,17</td>\n",
       "      <td>214,17</td>\n",
       "      <td>209,74</td>\n",
       "      <td>8,03M</td>\n",
       "      <td>-0,09%</td>\n",
       "    </tr>\n",
       "    <tr>\n",
       "      <th>...</th>\n",
       "      <td>...</td>\n",
       "      <td>...</td>\n",
       "      <td>...</td>\n",
       "      <td>...</td>\n",
       "      <td>...</td>\n",
       "      <td>...</td>\n",
       "    </tr>\n",
       "    <tr>\n",
       "      <th>03.12.2021</th>\n",
       "      <td>196,32</td>\n",
       "      <td>198,27</td>\n",
       "      <td>198,47</td>\n",
       "      <td>194,04</td>\n",
       "      <td>10,66M</td>\n",
       "      <td>-0,99%</td>\n",
       "    </tr>\n",
       "    <tr>\n",
       "      <th>02.12.2021</th>\n",
       "      <td>198,29</td>\n",
       "      <td>192,00</td>\n",
       "      <td>199,43</td>\n",
       "      <td>191,85</td>\n",
       "      <td>13,98M</td>\n",
       "      <td>4,28%</td>\n",
       "    </tr>\n",
       "    <tr>\n",
       "      <th>01.12.2021</th>\n",
       "      <td>190,16</td>\n",
       "      <td>196,03</td>\n",
       "      <td>196,81</td>\n",
       "      <td>190,10</td>\n",
       "      <td>13,21M</td>\n",
       "      <td>-1,86%</td>\n",
       "    </tr>\n",
       "    <tr>\n",
       "      <th>30.11.2021</th>\n",
       "      <td>193,77</td>\n",
       "      <td>195,27</td>\n",
       "      <td>197,66</td>\n",
       "      <td>192,56</td>\n",
       "      <td>16,02M</td>\n",
       "      <td>-1,28%</td>\n",
       "    </tr>\n",
       "    <tr>\n",
       "      <th>29.11.2021</th>\n",
       "      <td>196,29</td>\n",
       "      <td>201,00</td>\n",
       "      <td>201,25</td>\n",
       "      <td>195,36</td>\n",
       "      <td>14,63M</td>\n",
       "      <td>-0,69%</td>\n",
       "    </tr>\n",
       "  </tbody>\n",
       "</table>\n",
       "<p>251 rows × 6 columns</p>\n",
       "</div>"
      ],
      "text/plain": [
       "              Цена   Откр.   Макс.    Мин.   Объём  Изм. %\n",
       "Дата                                                      \n",
       "25.11.2022  213,79  211,38  213,97  211,38   1,99M   0,97%\n",
       "23.11.2022  211,73  210,24  212,83  210,19   3,81M   0,67%\n",
       "22.11.2022  210,33  207,54  210,46  205,38   5,27M   1,94%\n",
       "21.11.2022  206,32  210,30  210,52  206,00  10,45M  -2,13%\n",
       "18.11.2022  210,80  213,17  214,17  209,74   8,03M  -0,09%\n",
       "...            ...     ...     ...     ...     ...     ...\n",
       "03.12.2021  196,32  198,27  198,47  194,04  10,66M  -0,99%\n",
       "02.12.2021  198,29  192,00  199,43  191,85  13,98M   4,28%\n",
       "01.12.2021  190,16  196,03  196,81  190,10  13,21M  -1,86%\n",
       "30.11.2021  193,77  195,27  197,66  192,56  16,02M  -1,28%\n",
       "29.11.2021  196,29  201,00  201,25  195,36  14,63M  -0,69%\n",
       "\n",
       "[251 rows x 6 columns]"
      ]
     },
     "execution_count": 383,
     "metadata": {},
     "output_type": "execute_result"
    }
   ],
   "source": [
    "df_v = pd.read_csv(r'C:\\Users\\ekuma\\Documents\\Visa and Mastercard 27.11.21to27.11.22\\V.csv', index_col = 'Дата')\n",
    "df_v"
   ]
  },
  {
   "cell_type": "code",
   "execution_count": 366,
   "id": "cf77a96c",
   "metadata": {},
   "outputs": [],
   "source": [
    "for i in range(len(df_ma)):\n",
    "    for col in df_ma.columns:\n",
    "        if col == 'Объём' or col == 'Изм. %':\n",
    "            df_ma[col][i] = df_ma[col][i][:-1].replace('.','').replace(',','.')\n",
    "            df_v[col][i] = df_v[col][i][:-1].replace('.','').replace(',','.')\n",
    "        else:\n",
    "            df_ma[col][i] = df_ma[col][i].replace('.','').replace(',','.')\n",
    "            df_v[col][i] = df_v[col][i].replace('.','').replace(',','.')\n",
    "df_ma = df_ma.apply(pd.to_numeric)\n",
    "df_v = df_v.apply(pd.to_numeric)"
   ]
  },
  {
   "cell_type": "code",
   "execution_count": 367,
   "id": "d550ef7b",
   "metadata": {},
   "outputs": [
    {
     "data": {
      "text/plain": [
       "Цена      0.951744\n",
       "Откр.     0.952180\n",
       "Макс.     0.952730\n",
       "Мин.      0.953507\n",
       "Объём    -0.097784\n",
       "Изм. %    0.923129\n",
       "dtype: float64"
      ]
     },
     "execution_count": 367,
     "metadata": {},
     "output_type": "execute_result"
    }
   ],
   "source": [
    "df_ma.corrwith(df_v)"
   ]
  },
  {
   "cell_type": "code",
   "execution_count": 378,
   "id": "94739a07",
   "metadata": {},
   "outputs": [
    {
     "data": {
      "text/plain": [
       "338.38324157276656"
      ]
     },
     "execution_count": 378,
     "metadata": {},
     "output_type": "execute_result"
    }
   ],
   "source": [
    "(206.32/210.33)*344.96"
   ]
  },
  {
   "cell_type": "code",
   "execution_count": 368,
   "id": "f15844de",
   "metadata": {},
   "outputs": [
    {
     "name": "stdout",
     "output_type": "stream",
     "text": [
      "Цена      338.25\n",
      "Откр.     342.94\n",
      "Макс.     344.25\n",
      "Мин.      337.62\n",
      "Объём       1.96\n",
      "Изм. %     -1.58\n",
      "Name: 21.11.2022, dtype: float64\n"
     ]
    }
   ],
   "source": [
    "print(df_ma.loc['21.11.2022'] )\n",
    "df_ma.loc['21.11.2022'] = None"
   ]
  },
  {
   "cell_type": "code",
   "execution_count": 369,
   "id": "c5da76b6",
   "metadata": {
    "scrolled": true
   },
   "outputs": [
    {
     "data": {
      "text/html": [
       "<div>\n",
       "<style scoped>\n",
       "    .dataframe tbody tr th:only-of-type {\n",
       "        vertical-align: middle;\n",
       "    }\n",
       "\n",
       "    .dataframe tbody tr th {\n",
       "        vertical-align: top;\n",
       "    }\n",
       "\n",
       "    .dataframe thead th {\n",
       "        text-align: right;\n",
       "    }\n",
       "</style>\n",
       "<table border=\"1\" class=\"dataframe\">\n",
       "  <thead>\n",
       "    <tr style=\"text-align: right;\">\n",
       "      <th></th>\n",
       "      <th>Цена</th>\n",
       "      <th>Откр.</th>\n",
       "      <th>Макс.</th>\n",
       "      <th>Мин.</th>\n",
       "      <th>Объём</th>\n",
       "      <th>Изм. %</th>\n",
       "    </tr>\n",
       "    <tr>\n",
       "      <th>Дата</th>\n",
       "      <th></th>\n",
       "      <th></th>\n",
       "      <th></th>\n",
       "      <th></th>\n",
       "      <th></th>\n",
       "      <th></th>\n",
       "    </tr>\n",
       "  </thead>\n",
       "  <tbody>\n",
       "    <tr>\n",
       "      <th>25.11.2022</th>\n",
       "      <td>351.29</td>\n",
       "      <td>348.87</td>\n",
       "      <td>351.39</td>\n",
       "      <td>348.07</td>\n",
       "      <td>944.40</td>\n",
       "      <td>0.76</td>\n",
       "    </tr>\n",
       "    <tr>\n",
       "      <th>23.11.2022</th>\n",
       "      <td>348.64</td>\n",
       "      <td>344.79</td>\n",
       "      <td>350.78</td>\n",
       "      <td>344.79</td>\n",
       "      <td>1.94</td>\n",
       "      <td>1.07</td>\n",
       "    </tr>\n",
       "    <tr>\n",
       "      <th>22.11.2022</th>\n",
       "      <td>344.96</td>\n",
       "      <td>340.06</td>\n",
       "      <td>345.25</td>\n",
       "      <td>337.56</td>\n",
       "      <td>2.44</td>\n",
       "      <td>1.98</td>\n",
       "    </tr>\n",
       "    <tr>\n",
       "      <th>21.11.2022</th>\n",
       "      <td>NaN</td>\n",
       "      <td>NaN</td>\n",
       "      <td>NaN</td>\n",
       "      <td>NaN</td>\n",
       "      <td>NaN</td>\n",
       "      <td>NaN</td>\n",
       "    </tr>\n",
       "    <tr>\n",
       "      <th>18.11.2022</th>\n",
       "      <td>343.69</td>\n",
       "      <td>345.66</td>\n",
       "      <td>348.63</td>\n",
       "      <td>341.33</td>\n",
       "      <td>2.74</td>\n",
       "      <td>0.71</td>\n",
       "    </tr>\n",
       "    <tr>\n",
       "      <th>...</th>\n",
       "      <td>...</td>\n",
       "      <td>...</td>\n",
       "      <td>...</td>\n",
       "      <td>...</td>\n",
       "      <td>...</td>\n",
       "      <td>...</td>\n",
       "    </tr>\n",
       "    <tr>\n",
       "      <th>03.12.2021</th>\n",
       "      <td>322.11</td>\n",
       "      <td>320.24</td>\n",
       "      <td>322.68</td>\n",
       "      <td>314.00</td>\n",
       "      <td>4.73</td>\n",
       "      <td>0.60</td>\n",
       "    </tr>\n",
       "    <tr>\n",
       "      <th>02.12.2021</th>\n",
       "      <td>320.20</td>\n",
       "      <td>309.59</td>\n",
       "      <td>322.20</td>\n",
       "      <td>308.98</td>\n",
       "      <td>6.72</td>\n",
       "      <td>4.54</td>\n",
       "    </tr>\n",
       "    <tr>\n",
       "      <th>01.12.2021</th>\n",
       "      <td>306.28</td>\n",
       "      <td>320.78</td>\n",
       "      <td>322.02</td>\n",
       "      <td>306.00</td>\n",
       "      <td>8.01</td>\n",
       "      <td>-2.74</td>\n",
       "    </tr>\n",
       "    <tr>\n",
       "      <th>30.11.2021</th>\n",
       "      <td>314.92</td>\n",
       "      <td>318.00</td>\n",
       "      <td>320.76</td>\n",
       "      <td>310.11</td>\n",
       "      <td>10.24</td>\n",
       "      <td>-2.50</td>\n",
       "    </tr>\n",
       "    <tr>\n",
       "      <th>29.11.2021</th>\n",
       "      <td>323.01</td>\n",
       "      <td>330.01</td>\n",
       "      <td>331.82</td>\n",
       "      <td>318.25</td>\n",
       "      <td>6.36</td>\n",
       "      <td>-0.36</td>\n",
       "    </tr>\n",
       "  </tbody>\n",
       "</table>\n",
       "<p>251 rows × 6 columns</p>\n",
       "</div>"
      ],
      "text/plain": [
       "              Цена   Откр.   Макс.    Мин.   Объём  Изм. %\n",
       "Дата                                                      \n",
       "25.11.2022  351.29  348.87  351.39  348.07  944.40    0.76\n",
       "23.11.2022  348.64  344.79  350.78  344.79    1.94    1.07\n",
       "22.11.2022  344.96  340.06  345.25  337.56    2.44    1.98\n",
       "21.11.2022     NaN     NaN     NaN     NaN     NaN     NaN\n",
       "18.11.2022  343.69  345.66  348.63  341.33    2.74    0.71\n",
       "...            ...     ...     ...     ...     ...     ...\n",
       "03.12.2021  322.11  320.24  322.68  314.00    4.73    0.60\n",
       "02.12.2021  320.20  309.59  322.20  308.98    6.72    4.54\n",
       "01.12.2021  306.28  320.78  322.02  306.00    8.01   -2.74\n",
       "30.11.2021  314.92  318.00  320.76  310.11   10.24   -2.50\n",
       "29.11.2021  323.01  330.01  331.82  318.25    6.36   -0.36\n",
       "\n",
       "[251 rows x 6 columns]"
      ]
     },
     "execution_count": 369,
     "metadata": {},
     "output_type": "execute_result"
    }
   ],
   "source": [
    "df_ma"
   ]
  },
  {
   "cell_type": "markdown",
   "id": "a6f45b45",
   "metadata": {},
   "source": [
    "### Using winsorize"
   ]
  },
  {
   "cell_type": "code",
   "execution_count": 370,
   "id": "fef16866",
   "metadata": {
    "scrolled": true
   },
   "outputs": [
    {
     "name": "stdout",
     "output_type": "stream",
     "text": [
      "Цена : 357.79\n",
      "Откр. : 357.54\n",
      "Макс. : 362.21\n",
      "Мин. : 353.22\n",
      "Объём : 4.36\n",
      "Изм. % : 1.22\n"
     ]
    }
   ],
   "source": [
    "from scipy.stats.mstats import winsorize\n",
    "for col in df_ma.columns:\n",
    "    missing_value = winsorize(np.ma.masked_invalid(df_ma[col]), limits=(0.25, 0.25))[3]\n",
    "    print(f'{col} : {missing_value}')"
   ]
  },
  {
   "cell_type": "markdown",
   "id": "744aabd6",
   "metadata": {},
   "source": [
    "### Using linear regression"
   ]
  },
  {
   "cell_type": "code",
   "execution_count": 371,
   "id": "cc1ff036",
   "metadata": {},
   "outputs": [
    {
     "name": "stdout",
     "output_type": "stream",
     "text": [
      "Цена : 344.325\n",
      "Откр. : 342.86\n",
      "Макс. : 346.94\n",
      "Мин. : 339.445\n",
      "Объём : 2.59\n",
      "Изм. % : 1.345\n"
     ]
    }
   ],
   "source": [
    "# df.reset_index(inplace=True) # This will make your index into a new column in your DataFrame.\n",
    "for col in df_ma.columns:\n",
    "    missing_value = df_ma[col].interpolate()[3]\n",
    "    print(f'{col} : {missing_value}')"
   ]
  },
  {
   "cell_type": "markdown",
   "id": "f5d4cfc0",
   "metadata": {},
   "source": [
    "### Correlation reconstruction"
   ]
  },
  {
   "cell_type": "code",
   "execution_count": 355,
   "id": "45275c47",
   "metadata": {},
   "outputs": [
    {
     "name": "stdout",
     "output_type": "stream",
     "text": [
      "Цена : 338.38324157276656\n",
      "Откр. : 344.5823359352414\n",
      "Макс. : 345.3484272545852\n",
      "Мин. : 338.5790242477359\n",
      "Объём : 4.838330170777988\n",
      "Изм. % : -2.1739175257731955\n"
     ]
    }
   ],
   "source": [
    "for col in df_ma.columns:\n",
    "    missing_value = (df_v.loc['21.11.2022'][col]/df_v.loc['22.11.2022'][col])*df_ma.loc['22.11.2022'][col]\n",
    "    print(f'{col} : {missing_value}')"
   ]
  },
  {
   "cell_type": "code",
   "execution_count": 356,
   "id": "0ea3d14e",
   "metadata": {},
   "outputs": [
    {
     "data": {
      "text/html": [
       "<div>\n",
       "<style scoped>\n",
       "    .dataframe tbody tr th:only-of-type {\n",
       "        vertical-align: middle;\n",
       "    }\n",
       "\n",
       "    .dataframe tbody tr th {\n",
       "        vertical-align: top;\n",
       "    }\n",
       "\n",
       "    .dataframe thead th {\n",
       "        text-align: right;\n",
       "    }\n",
       "</style>\n",
       "<table border=\"1\" class=\"dataframe\">\n",
       "  <thead>\n",
       "    <tr style=\"text-align: right;\">\n",
       "      <th></th>\n",
       "      <th>Цена</th>\n",
       "      <th>Откр.</th>\n",
       "      <th>Макс.</th>\n",
       "      <th>Мин.</th>\n",
       "      <th>Объём</th>\n",
       "      <th>Изм. %</th>\n",
       "    </tr>\n",
       "  </thead>\n",
       "  <tbody>\n",
       "    <tr>\n",
       "      <th>Цена</th>\n",
       "      <td>1.000000</td>\n",
       "      <td>0.970911</td>\n",
       "      <td>0.988487</td>\n",
       "      <td>0.985344</td>\n",
       "      <td>0.033519</td>\n",
       "      <td>0.146730</td>\n",
       "    </tr>\n",
       "    <tr>\n",
       "      <th>Откр.</th>\n",
       "      <td>0.970911</td>\n",
       "      <td>1.000000</td>\n",
       "      <td>0.986732</td>\n",
       "      <td>0.986903</td>\n",
       "      <td>0.028574</td>\n",
       "      <td>-0.042385</td>\n",
       "    </tr>\n",
       "    <tr>\n",
       "      <th>Макс.</th>\n",
       "      <td>0.988487</td>\n",
       "      <td>0.986732</td>\n",
       "      <td>1.000000</td>\n",
       "      <td>0.985500</td>\n",
       "      <td>0.022973</td>\n",
       "      <td>0.057299</td>\n",
       "    </tr>\n",
       "    <tr>\n",
       "      <th>Мин.</th>\n",
       "      <td>0.985344</td>\n",
       "      <td>0.986903</td>\n",
       "      <td>0.985500</td>\n",
       "      <td>1.000000</td>\n",
       "      <td>0.037187</td>\n",
       "      <td>0.048426</td>\n",
       "    </tr>\n",
       "    <tr>\n",
       "      <th>Объём</th>\n",
       "      <td>0.033519</td>\n",
       "      <td>0.028574</td>\n",
       "      <td>0.022973</td>\n",
       "      <td>0.037187</td>\n",
       "      <td>1.000000</td>\n",
       "      <td>0.023152</td>\n",
       "    </tr>\n",
       "    <tr>\n",
       "      <th>Изм. %</th>\n",
       "      <td>0.146730</td>\n",
       "      <td>-0.042385</td>\n",
       "      <td>0.057299</td>\n",
       "      <td>0.048426</td>\n",
       "      <td>0.023152</td>\n",
       "      <td>1.000000</td>\n",
       "    </tr>\n",
       "  </tbody>\n",
       "</table>\n",
       "</div>"
      ],
      "text/plain": [
       "            Цена     Откр.     Макс.      Мин.     Объём    Изм. %\n",
       "Цена    1.000000  0.970911  0.988487  0.985344  0.033519  0.146730\n",
       "Откр.   0.970911  1.000000  0.986732  0.986903  0.028574 -0.042385\n",
       "Макс.   0.988487  0.986732  1.000000  0.985500  0.022973  0.057299\n",
       "Мин.    0.985344  0.986903  0.985500  1.000000  0.037187  0.048426\n",
       "Объём   0.033519  0.028574  0.022973  0.037187  1.000000  0.023152\n",
       "Изм. %  0.146730 -0.042385  0.057299  0.048426  0.023152  1.000000"
      ]
     },
     "execution_count": 356,
     "metadata": {},
     "output_type": "execute_result"
    }
   ],
   "source": [
    "df_ma.corr()"
   ]
  },
  {
   "cell_type": "markdown",
   "id": "9a7ca864",
   "metadata": {},
   "source": [
    "У \"Объём\" из MasterCard нет корреляции с Visa. также нет корреляции с другими столбцами... Поэтому мы не можем использовать корреляционное восстановление (correlation reconstruction)."
   ]
  }
 ],
 "metadata": {
  "kernelspec": {
   "display_name": "Python 3 (ipykernel)",
   "language": "python",
   "name": "python3"
  },
  "language_info": {
   "codemirror_mode": {
    "name": "ipython",
    "version": 3
   },
   "file_extension": ".py",
   "mimetype": "text/x-python",
   "name": "python",
   "nbconvert_exporter": "python",
   "pygments_lexer": "ipython3",
   "version": "3.9.7"
  }
 },
 "nbformat": 4,
 "nbformat_minor": 5
}
